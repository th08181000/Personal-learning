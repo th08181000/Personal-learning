{
 "cells": [
  {
   "cell_type": "markdown",
   "metadata": {},
   "source": [
    "#### 날짜 처리\n",
    "time — 시간 액세스와 변환\n",
    "\n",
    "https://docs.python.org/ko/3/library/time.html\n",
    "\n",
    "포맷 코드 표<BR>\n",
    "포맷코드\t설명\t예<BR>\n",
    "%a\t요일 줄임말\tSun, Mon, ... Sat<BR>\n",
    "%A\t요일\tSunday, Monday, ..., Saturday<BR>\n",
    "%w\t요일을 숫자로 표시, 월요일일요일, 06\t0, 1, ..., 6<BR>\n",
    "%d\t일\t01, 02, ..., 31<BR>\n",
    "%b\t월 줄임말\tJan, Feb, ..., Dec<BR>\n",
    "%B\t월\tJanuary, February, …, December<BR>\n",
    "%m\t숫자 월\t01, 02, ..., 12<BR>\n",
    "%y\t두 자릿수 연도\t01, 02, ..., 99<BR>\n",
    "%Y\t네 자릿수 연도\t0001, 0002, ..., 2017, 2018, 9999<BR>\n",
    "%H\t시간(24시간)\t00, 01, ..., 23<BR>\n",
    "%I\t시간(12시간)\t01, 02, ..., 12<BR>\n",
    "%p\tAM, PM\tAM, PM<BR>\n",
    "%M\t분\t00, 01, ..., 59<BR>\n",
    "%S\t초\t00, 01, ..., 59<BR>\n",
    "%Z\t시간대\t대한민국 표준시<BR>\n",
    "%j\t1월 1일부터 경과한 일수\t001, 002, ..., 366<BR>\n",
    "%U\t1년중 주차, 월요일이 한 주의 시작으로\t00, 01, ..., 53<BR>\n",
    "%W\t1년중 주차, 월요일이 한 주의 시작으로\t00, 01, ..., 53<BR>\n",
    "%c\t날짜, 요일, 시간을 출력, 현재 시간대 기준\tSat May 19 11:14:27 2018<BR>\n",
    "%x\t날짜를 출력, 현재 시간대 기준\t05/19/18<BR>\n",
    "%X\t시간을 출력, 현재 시간대 기준\t'11:44:22'"
   ]
  },
  {
   "cell_type": "code",
   "execution_count": 7,
   "metadata": {},
   "outputs": [
    {
     "data": {
      "text/plain": [
       "1678348163.7599854"
      ]
     },
     "execution_count": 7,
     "metadata": {},
     "output_type": "execute_result"
    }
   ],
   "source": [
    "import time\n",
    "time.time()"
   ]
  },
  {
   "cell_type": "code",
   "execution_count": 8,
   "metadata": {},
   "outputs": [
    {
     "data": {
      "text/plain": [
       "'Thu Mar  9 16:49:52 2023'"
      ]
     },
     "execution_count": 8,
     "metadata": {},
     "output_type": "execute_result"
    }
   ],
   "source": [
    "# 날짜와 시간을 알아보기 쉬운 형태로 리턴# 날짜와 시간을 알아보기 쉬운 형태로 리턴\n",
    "time.asctime(time.localtime(time.time()))"
   ]
  },
  {
   "cell_type": "code",
   "execution_count": 9,
   "metadata": {},
   "outputs": [
    {
     "data": {
      "text/plain": [
       "'Thu Mar  9 16:50:03 2023'"
      ]
     },
     "execution_count": 9,
     "metadata": {},
     "output_type": "execute_result"
    }
   ],
   "source": [
    "# asctime과 다른 점은 ctime은 항상 현재 시간만을 리턴\n",
    "time.ctime()"
   ]
  },
  {
   "cell_type": "code",
   "execution_count": 1,
   "metadata": {},
   "outputs": [
    {
     "name": "stdout",
     "output_type": "stream",
     "text": [
      "time.struct_time(tm_year=2020, tm_mon=12, tm_mday=28, tm_hour=22, tm_min=2, tm_sec=17, tm_wday=0, tm_yday=363, tm_isdst=0)\n"
     ]
    },
    {
     "data": {
      "text/plain": [
       "'Mon Dec 28 22:02:17 2020'"
      ]
     },
     "execution_count": 1,
     "metadata": {},
     "output_type": "execute_result"
    }
   ],
   "source": [
    "# Q. 1609160537.371015을 \"Sat Jun 26 08:35:03 2021\" 포멧으로 출력하세요.\n",
    "import time\n",
    "t = time.localtime(1609160537.371015)\n",
    "print(t)\n",
    "time.asctime(t)"
   ]
  },
  {
   "cell_type": "code",
   "execution_count": 5,
   "metadata": {},
   "outputs": [
    {
     "name": "stdout",
     "output_type": "stream",
     "text": [
      "time.asctime(t): Sat Jun 26 08:35:03 2021 \n"
     ]
    }
   ],
   "source": [
    "# Q. 현재 날짜와 시간을 \"Sat Jun 26 08:35:03 2021\" 포멧으로 출력하세요.\n",
    "import time\n",
    "t = time.localtime()\n",
    "print(\"time.asctime(t): %s \" % time.asctime(t))"
   ]
  },
  {
   "cell_type": "code",
   "execution_count": 3,
   "metadata": {},
   "outputs": [
    {
     "name": "stdout",
     "output_type": "stream",
     "text": [
      "1678333524.3262231\n",
      "2023-03-09 12:45:24.326223\n"
     ]
    },
    {
     "data": {
      "text/plain": [
       "'2023-03-09 12:45:24'"
      ]
     },
     "execution_count": 3,
     "metadata": {},
     "output_type": "execute_result"
    }
   ],
   "source": [
    "# Q. 현재 시간을 년-월-일 시:분:초로 출력하세요.\n",
    "import time\n",
    "from datetime import datetime\n",
    "t = time.time()\n",
    "print(t)\n",
    "d = datetime.fromtimestamp(t)\n",
    "print(d)\n",
    "s = d.strftime('%Y-%m-%d %X')\n",
    "s        "
   ]
  },
  {
   "cell_type": "code",
   "execution_count": 4,
   "metadata": {},
   "outputs": [
    {
     "name": "stdout",
     "output_type": "stream",
     "text": [
      "time.struct_time(tm_year=2023, tm_mon=3, tm_mday=9, tm_hour=12, tm_min=49, tm_sec=20, tm_wday=3, tm_yday=68, tm_isdst=0)\n",
      "오늘은 2023-01-01 이후 68일째 되는 날입니다.\n"
     ]
    }
   ],
   "source": [
    "# Q. 올해 경과된 날짜수 계산하세요\n",
    "import time\n",
    "t = time.localtime()\n",
    "print(t)\n",
    "start_day = '%d-01-01' %t.tm_year\n",
    "elapsed_day = t.tm_yday\n",
    "# print('오늘은 %s 이후 %d일째 되는 날입니다.' %(start_day,elapsed_day))\n",
    "print(f'오늘은 {start_day} 이후 {elapsed_day}일째 되는 날입니다.')\n"
   ]
  },
  {
   "cell_type": "code",
   "execution_count": 5,
   "metadata": {},
   "outputs": [
    {
     "name": "stdout",
     "output_type": "stream",
     "text": [
      "time.struct_time(tm_year=2023, tm_mon=3, tm_mday=9, tm_hour=13, tm_min=56, tm_sec=21, tm_wday=3, tm_yday=68, tm_isdst=0)\n",
      "2023-3-9 오늘은 목요일입니다.\n"
     ]
    }
   ],
   "source": [
    "# Q. 현재 요일을 \"2021-6-26 오늘은 토요일입니다.\"와 같은 형식으로 출력하세요.\n",
    "import time\n",
    "\n",
    "weekdays = ['월요일','화요일','수요일','목요일','금요일','토요일','일요일']\n",
    "t = time.localtime()\n",
    "print(t)\n",
    "today = '%d-%d-%d' %(t.tm_year,t.tm_mon,t.tm_mday)\n",
    "week = weekdays[t.tm_wday]\n",
    "# print('%s 오늘은 %s입니다' %(today, week))\n",
    "print(f'{today} 오늘은 {week}입니다.')"
   ]
  },
  {
   "cell_type": "code",
   "execution_count": 6,
   "metadata": {},
   "outputs": [
    {
     "name": "stdout",
     "output_type": "stream",
     "text": [
      "2023-03-09 14:03:48.641096\n",
      "1에서 백만까지 더합니다.\n",
      "1에서 백만까지 더한 결과: 499999500000\n",
      "0:00:00.128925\n",
      "총 계산 시간: 0:00:00.128925\n",
      "총 계산 시간: 128ms\n"
     ]
    }
   ],
   "source": [
    "# 1000 밀리초(ms) = 1초\n",
    "# Q. 1에서 백만까지 더하는데 걸리는 프로그램 실행 시간을 밀리초(ms) 단위로 구하세요.\n",
    "from datetime import datetime\n",
    "\n",
    "start = datetime.now()\n",
    "print(start)\n",
    "print('1에서 백만까지 더합니다.')\n",
    "ret = 0\n",
    "for i in range(1000000):\n",
    "   ret += i\n",
    "print('1에서 백만까지 더한 결과: %d' %ret)\n",
    "end = datetime.now()\n",
    "elapsed = end - start\n",
    "print(elapsed)\n",
    "print('총 계산 시간: ', end='');print(elapsed)\n",
    "elapsed_ms = int(elapsed.total_seconds()*1000)\n",
    "print('총 계산 시간: %dms' %elapsed_ms)"
   ]
  },
  {
   "cell_type": "code",
   "execution_count": 10,
   "metadata": {},
   "outputs": [
    {
     "name": "stdout",
     "output_type": "stream",
     "text": [
      "0\n",
      "1\n",
      "2\n",
      "3\n",
      "4\n"
     ]
    }
   ],
   "source": [
    "# time.sleep() : 일정한 시간 간격을 두고 루프를 실행할 수 있음\n",
    "\n",
    "import time\n",
    "for i in range(5):\n",
    "    print(i)\n",
    "    time.sleep(2)"
   ]
  },
  {
   "cell_type": "code",
   "execution_count": 11,
   "metadata": {},
   "outputs": [
    {
     "name": "stdout",
     "output_type": "stream",
     "text": [
      "   December 2021\n",
      "Mo Tu We Th Fr Sa Su\n",
      "       1  2  3  4  5\n",
      " 6  7  8  9 10 11 12\n",
      "13 14 15 16 17 18 19\n",
      "20 21 22 23 24 25 26\n",
      "27 28 29 30 31\n",
      "None\n"
     ]
    }
   ],
   "source": [
    "import calendar\n",
    "print(calendar.prmonth(2021,12))"
   ]
  },
  {
   "cell_type": "code",
   "execution_count": 12,
   "metadata": {},
   "outputs": [
    {
     "name": "stdout",
     "output_type": "stream",
     "text": [
      "4\n"
     ]
    }
   ],
   "source": [
    "# 요일(0 월요일 ~ 6 일요일)\n",
    "print(calendar.weekday(2021,12,31))"
   ]
  },
  {
   "cell_type": "code",
   "execution_count": 13,
   "metadata": {},
   "outputs": [
    {
     "data": {
      "text/plain": [
       "(5, 31)"
      ]
     },
     "execution_count": 13,
     "metadata": {},
     "output_type": "execute_result"
    }
   ],
   "source": [
    "# 1일의 요일, 날수\n",
    "calendar.monthrange(2022,1)"
   ]
  },
  {
   "cell_type": "code",
   "execution_count": null,
   "metadata": {},
   "outputs": [],
   "source": []
  },
  {
   "cell_type": "code",
   "execution_count": 107,
   "metadata": {},
   "outputs": [
    {
     "data": {
      "text/plain": [
       "8"
      ]
     },
     "execution_count": 107,
     "metadata": {},
     "output_type": "execute_result"
    }
   ],
   "source": [
    "dir([mail_to_park])\n",
    "(3).__add__(5)"
   ]
  }
 ],
 "metadata": {
  "kernelspec": {
   "display_name": "Python 3",
   "language": "python",
   "name": "python3"
  },
  "language_info": {
   "codemirror_mode": {
    "name": "ipython",
    "version": 3
   },
   "file_extension": ".py",
   "mimetype": "text/x-python",
   "name": "python",
   "nbconvert_exporter": "python",
   "pygments_lexer": "ipython3",
   "version": "3.8.3"
  }
 },
 "nbformat": 4,
 "nbformat_minor": 5
}
